{
 "cells": [
  {
   "cell_type": "code",
   "execution_count": 1,
   "metadata": {},
   "outputs": [
    {
     "name": "stdout",
     "output_type": "stream",
     "text": [
      "\n",
      "\n",
      "----Inicio del análisis de los datos-----------\n",
      "\n",
      "\n"
     ]
    }
   ],
   "source": [
    "\n",
    "import numpy as np\n",
    "import pandas as pd\n",
    "import random as rd\n",
    "import scipy.stats as ss\n",
    "import matplotlib.pyplot as plt\n",
    "import datetime\n",
    "from random import choices\n",
    " \n",
    "\n",
    "from tkinter import *\n",
    "from tkinter import ttk\n",
    "\n",
    "print(\"\\n\\n----Inicio del análisis de los datos-----------\\n\\n\")\n",
    "\n",
    "def cargarDatos():\n",
    "    '''Función para cargar los datos en un Dataframe'''\n",
    "    datos=pd.read_csv(\"Resultados_base.csv\",parse_dates=True)\n",
    "    df=pd.DataFrame(datos)\n",
    "    df.set_index('FECHA',inplace=True)\n",
    "    return df"
   ]
  },
  {
   "cell_type": "code",
   "execution_count": 2,
   "metadata": {},
   "outputs": [],
   "source": [
    "def actualizarLista():\n",
    "    '''Función que toma todos los números, incluido el último, de los resultados \n",
    "        de los sorteos y los mete en Resultados_base.csv'''\n",
    "    tabla=pd.read_html(\"https://docs.google.com/spreadsheet/pub?key=0AhqMeY8ZOrNKdEFUQ3VaTHVpU29UZ3l4emFQaVZub3c&amp\"\\\n",
    "                       ,header=0,index_col=1)\n",
    "    t=pd.DataFrame(tabla[0])\n",
    "    \n",
    "    t.drop(t.index[0],inplace=True,axis=0)     #quitamos la fila 0, ya que no hay datos\n",
    "    t.drop(['1'],inplace=True,axis=1)   #quitamos la columna 1, no necesario\n",
    "    t.drop(['Unnamed: 7'],inplace=True,axis=1) #quitamos la columna 7, no necesaria \n",
    "    enca=['N1','N2','N3','N4','N5','Star1','Star2']\n",
    "    t.columns=enca                      #redefinimos las columnas\n",
    "      #falta pasarlos a enteros\n",
    "    t.to_csv('Resultados_base.csv')\n",
    "    print(\"\\nGuardado en Resultados_base.csv\\n\")  "
   ]
  },
  {
   "cell_type": "code",
   "execution_count": 6,
   "metadata": {},
   "outputs": [
    {
     "name": "stdout",
     "output_type": "stream",
     "text": [
      "\n",
      "Guardado en Resultados_base.csv\n",
      "\n"
     ]
    }
   ],
   "source": [
    "actualizarLista()"
   ]
  },
  {
   "cell_type": "code",
   "execution_count": 7,
   "metadata": {},
   "outputs": [],
   "source": [
    "#%%\n",
    "###Guardamos ResultadosBackup.csv como backup de los datos y trabajamos con Resultados_base.csv\n",
    "def guardarDatos(dataframe):\n",
    "    '''Función para guardar los datos en un backup de respaldo'''\n",
    "    dataframe.to_csv(\"ResultadosBackup.csv\")\n",
    "#%%    \n",
    "df=cargarDatos()\n",
    "last=df.head(1)\n",
    "#print(df)"
   ]
  },
  {
   "cell_type": "code",
   "execution_count": 8,
   "metadata": {},
   "outputs": [
    {
     "name": "stdout",
     "output_type": "stream",
     "text": [
      "\n",
      "\n",
      "*****Descripción de los datos: *****\n",
      "\n",
      "                N1           N2           N3           N4           N5  \\\n",
      "count  1172.000000  1172.000000  1172.000000  1172.000000  1172.000000   \n",
      "mean      8.373720    16.804608    25.129693    33.988908    42.654437   \n",
      "std       6.558826     8.255953     8.677163     8.470517     6.612816   \n",
      "min       1.000000     2.000000     5.000000    10.000000    16.000000   \n",
      "25%       3.000000    10.000000    19.000000    28.000000    39.000000   \n",
      "50%       7.000000    16.000000    25.000000    35.000000    44.000000   \n",
      "75%      12.000000    23.000000    31.000000    40.000000    48.000000   \n",
      "max      38.000000    44.000000    47.000000    49.000000    50.000000   \n",
      "\n",
      "             Star1        Star2  \n",
      "count  1172.000000  1172.000000  \n",
      "mean      3.972696     7.677474  \n",
      "std       2.487737     2.589489  \n",
      "min       1.000000     1.000000  \n",
      "25%       2.000000     6.000000  \n",
      "50%       3.000000     8.000000  \n",
      "75%       6.000000    10.000000  \n",
      "max      11.000000    12.000000  \n",
      "Mediana: \n",
      "N1        7.0\n",
      "N2       16.0\n",
      "N3       25.0\n",
      "N4       35.0\n",
      "N5       44.0\n",
      "Star1     3.0\n",
      "Star2     8.0\n",
      "dtype: float64\n",
      "\n",
      "Moda: \n",
      "    N1    N2    N3    N4    N5  Star1  Star2\n",
      "0  1.0  15.0  26.0  38.0  50.0    1.0    9.0\n",
      "\n",
      "Media: \n",
      "N1        8.373720\n",
      "N2       16.804608\n",
      "N3       25.129693\n",
      "N4       33.988908\n",
      "N5       42.654437\n",
      "Star1     3.972696\n",
      "Star2     7.677474\n",
      "dtype: float64\n",
      "\n",
      "Desviación estándar: \n",
      "N1       6.558826\n",
      "N2       8.255953\n",
      "N3       8.677163\n",
      "N4       8.470517\n",
      "N5       6.612816\n",
      "Star1    2.487737\n",
      "Star2    2.589489\n",
      "dtype: float64\n",
      "\n"
     ]
    }
   ],
   "source": [
    "#%% Descripción de los datos\n",
    "print(\"\\n\\n*****Descripción de los datos: *****\\n\")\n",
    "#Mostrar las 10 primeras líneas del dataframe\n",
    "df.head(10)\n",
    "#Estadísticas\n",
    "stat=df.describe()\n",
    "print(stat)\n",
    "#pd.plotting.scatter_matrix(df)\n",
    "#Mediana: Deja el 50% de las muestras en la mitad\n",
    "mediana=df.median()\n",
    "print(\"Mediana: \\n{}\\n\".format(df.median()))\n",
    "#Moda #valor más repetido en frecuencia\n",
    "moda=df.mode()\n",
    "print(\"Moda: \\n{}\\n\".format(moda))\n",
    "#Media\n",
    "media=df.mean()\n",
    "print(\"Media: \\n{}\\n\".format(media))\n",
    "#Desviación Estándar \n",
    "std=df.std()\n",
    "print(\"Desviación estándar: \\n{}\\n\".format(df.std()))"
   ]
  },
  {
   "cell_type": "code",
   "execution_count": 9,
   "metadata": {},
   "outputs": [
    {
     "name": "stdout",
     "output_type": "stream",
     "text": [
      "media de N1: 8.373720136518772\n",
      "desviación de N1: 6.55602727794178\n"
     ]
    }
   ],
   "source": [
    "#%%\n",
    "n1=df.N1.values\n",
    "n2=df.N2.values\n",
    "n3=df.N3.values\n",
    "n4=df.N4.values\n",
    "n5=df.N5.values\n",
    "st1=df.Star1.values\n",
    "st2=df.Star2.values\n",
    "\n",
    "#%% Necesito un método para ajustar la distribuvión de mis datos a una teórica\n",
    "N1=df.N1.astype(int)\n",
    "\n",
    "mediaN1, desviacionN1 = ss.norm.fit(N1)\n",
    " \n",
    "print(\"media de N1: {}\".format(mediaN1)) # media = \n",
    "print(\"desviación de N1: {}\".format(desviacionN1)) # desviacion = \n",
    "\n",
    "#df.hist()\n",
    "##https://blog.adrianistan.eu/2018/01/17/estadistica-python-ajustar-datos-una-distribucion-parte-vii/\n",
    "#%%\n",
    "def generarNumero():\n",
    "    '''Funcion que genera un número aleatorio dentro del rango :\n",
    "        [media-std,media+stf]'''\n",
    "   #Nota: a veces da numeros repetidos en una jugada\n",
    "    global media, std, mediana, moda\n",
    "    limInf=round(media-std)\n",
    "    limSup=round(media+std)\n",
    "    numero=[]\n",
    "    ls=[]\n",
    "    for i in range(7):\n",
    "        a=int(limInf[i])\n",
    "        b=int(limSup[i])\n",
    "        for j in range(a,b+1):\n",
    "            ls.append(j)\n",
    "        k=rd.choice(ls)\n",
    "        ls=[]\n",
    "        numero.append(k)\n",
    "    return numero\n",
    "    ############ \n",
    "#%%\n",
    "def genNum():\n",
    "    \n",
    "    '''Funcion que genera un número aleatorio en funcion de los pesos'''\n",
    "    global n1,n2,n3,n4,n5,st1,st2\n",
    "    numero=[]\n",
    "    for i in range(7):\n",
    "        if (i==0):\n",
    "            numero.append(choices(banda_n1,w_n1))\n",
    "        elif(i==1):\n",
    "            numero.append(choices(banda_n2,w_n2))\n",
    "        elif(i==2):\n",
    "            numero.append(choices(banda_n3,w_n3))\n",
    "        elif(i==3):\n",
    "            numero.append(choices(banda_n4,w_n4))\n",
    "        elif(i==4):\n",
    "            numero.append(choices(banda_n5,w_n5))\n",
    "        elif(i==5):\n",
    "            numero.append(choices(banda_st1,w_st1))\n",
    "        elif(i==6):\n",
    "            numero.append(choices(banda_st2,w_st2))\n",
    "    \n",
    "    return [numero[i][0] for i in range(7)]\n",
    "\n",
    "#%%\n",
    "\n",
    "population = [1, 2, 3, 4, 5, 6]\n",
    "weights = [0.4, 0.2, 0.2, 0.1, 0.05, 0.05]    \n",
    "\n",
    "banda_n1=[1,2,3,4,5,6,7,8,9,10]\n",
    "w_n1=    [20,16,16,14,10,7,5,4,4,4]###weigths of the N1\n",
    "banda_n2=[5, 6, 7, 8, 9,  10,11,12,13,14,15, 16, 17, 18, 19, 20, 21, 22, 23, 24, 25]\n",
    "w_n2=    [3, 2, 4, 4, 3.5, 4, 5, 4, 5, 9, 18, 9, 5, 3, 4, 4, 3, 2.5, 3, 3, 2]\n",
    "banda_n3=[20,21,22,23,24,25,26,27,28,29,30]\n",
    "w_n3=    [8,8,7,8,10,15,15,10,7,6,6]\n",
    "banda_n4=[30, 31, 32, 33, 34, 35, 36, 37, 38, 39, 40]\n",
    "w_n4=    [8,8,7,8,10,15,15,10,7,6,6]\n",
    "banda_n5=[40, 41, 42, 43, 44, 45, 46, 47, 48, 49, 50]\n",
    "w_n5=    [4,4,5,5,9,8,7,10,10,14,24]\n",
    "banda_st1=[1,2,3,4,5,6]\n",
    "w_st1=   [22,22,20,14,13,9]\n",
    "banda_st2=[7,8,9,10,11,12]\n",
    "w_st2=   [15,19,30,18,15,3]\n",
    "\n",
    "choices(banda_n2, w_n2)\n",
    "#%%    \n",
    "pred=list()\n",
    "def guardarPred(num):\n",
    "    '''Guarda n números predichos en una bd o csv, usando generarNumero'''\n",
    "    date=datetime.datetime.now().strftime('%Y-%m-%d')\n",
    "    for i in range(1,num+1):\n",
    "        #pred.append(generarNumero())\n",
    "        pred.append(genNum())\n",
    "        78/27520\n",
    "    pred.insert(0,date)\n",
    "    df=pd.DataFrame(pred)\n",
    "    with open('Predictions.csv','a') as f:\n",
    "        df.to_csv(f,header=False)    \n",
    "    print(df) \n",
    "    \n",
    "#%%\n",
    "def calcfreq(numero):#numero debe ser N1.... Star1.. Star2\n",
    "    '''Calcula la frecuencia de cada número \n",
    "        p,w=calcfreq(n) devuelve p:lista de numeros y w:pesos de cada uno'''\n",
    "    l=len(numero)\n",
    "    if max(numero)<=12:\n",
    "        n=[i for i in range(1,13)]\n",
    "    else:\n",
    "        n=[i  for i in range(1,51) ]\n",
    "    popu=[]\n",
    "    weights=[]        \n",
    "    for i in n:    \n",
    "        count=0\n",
    "        for j in numero:\n",
    "            if i==j:\n",
    "                count+=1\n",
    "        w=100*(count/float(l))    \n",
    "        #print(i,'encontrado',count,'times','weight',w)\n",
    "        popu.append(i)\n",
    "        weights.append(w)\n",
    "        \n",
    "    return (popu,weights)"
   ]
  },
  {
   "cell_type": "code",
   "execution_count": 10,
   "metadata": {},
   "outputs": [
    {
     "data": {
      "text/plain": [
       "[5, 13, 22, 32, 44, 1, 8]"
      ]
     },
     "execution_count": 10,
     "metadata": {},
     "output_type": "execute_result"
    }
   ],
   "source": [
    "genNum()"
   ]
  },
  {
   "cell_type": "code",
   "execution_count": 11,
   "metadata": {},
   "outputs": [
    {
     "data": {
      "text/plain": [
       "[9, 17, 19, 39, 36, 2, 5]"
      ]
     },
     "execution_count": 11,
     "metadata": {},
     "output_type": "execute_result"
    }
   ],
   "source": [
    "generarNumero()"
   ]
  },
  {
   "cell_type": "code",
   "execution_count": null,
   "metadata": {},
   "outputs": [],
   "source": []
  }
 ],
 "metadata": {
  "kernelspec": {
   "display_name": "Python 3",
   "language": "python",
   "name": "python3"
  },
  "language_info": {
   "codemirror_mode": {
    "name": "ipython",
    "version": 3
   },
   "file_extension": ".py",
   "mimetype": "text/x-python",
   "name": "python",
   "nbconvert_exporter": "python",
   "pygments_lexer": "ipython3",
   "version": "3.7.0"
  }
 },
 "nbformat": 4,
 "nbformat_minor": 2
}
